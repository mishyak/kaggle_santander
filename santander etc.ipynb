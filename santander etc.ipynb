{
 "cells": [
  {
   "cell_type": "code",
   "execution_count": 1,
   "metadata": {
    "collapsed": false
   },
   "outputs": [
    {
     "name": "stdout",
     "output_type": "stream",
     "text": [
      "Started!\n",
      "0.840699684531\n"
     ]
    }
   ],
   "source": [
    "import numpy as np\n",
    "import xgboost as xgb\n",
    "import pandas as pd\n",
    "from sklearn.cross_validation import StratifiedKFold, cross_val_score\n",
    "from sklearn.preprocessing import normalize\n",
    "from sklearn.decomposition import PCA\n",
    "from sklearn.ensemble import ExtraTreesClassifier\n",
    "from itertools import combinations\n",
    "from numpy import array, array_equal, unique\n",
    "from sklearn.cluster import KMeans\n",
    "\n",
    "print('Started!')\n",
    "train = pd.read_csv('train.csv', index_col=0)\n",
    "test = pd.read_csv('test.csv', index_col=0)\n",
    "target = train.TARGET\n",
    "train.drop('TARGET', axis=1, inplace=True)\n",
    "\n",
    "\n",
    "def identify_constant_features(X):\n",
    "    count_uniques = X.apply(lambda x: len(x.unique()))\n",
    "    constants = set(count_uniques[count_uniques == 1].index.tolist())\n",
    "    return constants\n",
    "\n",
    "def identify_equal_features(X):\n",
    "    features_to_compare = list(combinations(X.columns.tolist(),2))\n",
    "    equal_features = []\n",
    "    for compare in features_to_compare:\n",
    "        is_equal = array_equal(X[compare[0]],X[compare[1]])\n",
    "        if is_equal:\n",
    "            equal_features.append(list(compare))\n",
    "    return array(equal_features)[:,1]\n",
    "\n",
    "constants = identify_constant_features(train)\n",
    "train.drop(constants, axis = 1, inplace = True)\n",
    "\n",
    "equal_features = identify_equal_features(train)\n",
    "train.drop(equal_features, axis = 1, inplace = True)\n",
    "\n",
    "test.drop(constants, axis = 1, inplace = True)\n",
    "test.drop(equal_features, axis = 1, inplace = True)\n",
    "\n",
    "\n",
    "features = train.columns\n",
    "train.insert(1, 'SumZeros', (train[features] == 0).astype(int).sum(axis=1))\n",
    "test.insert(1, 'SumZeros', (test[features] == 0).astype(int).sum(axis=1))\n",
    "train['var38'] = train['var38'].map(np.log1p)\n",
    "test['var38'] = test['var38'].map(np.log1p)\n",
    "pca = PCA(n_components = 3)\n",
    "x_train_projected = pca.fit_transform(normalize(train[features], axis=0))\n",
    "x_test_projected = pca.fit_transform(normalize(test[features], axis=0))\n",
    "train.insert(1, 'PCAOne', x_train_projected[:, 0])\n",
    "train.insert(1, 'PCATwo', x_train_projected[:, 1])\n",
    "train.insert(1, 'PCAThree', x_train_projected[:, 2])\n",
    "test.insert(1, 'PCAOne', x_test_projected[:, 0])\n",
    "test.insert(1, 'PCATwo', x_test_projected[:, 1])\n",
    "test.insert(1, 'PCAThree', x_test_projected[:, 2])\n",
    "\n",
    "etc = ExtraTreesClassifier(n_estimators=500, max_features=40, criterion= 'entropy',min_samples_split= 4,\n",
    "                        max_depth = 35, min_samples_leaf = 2, n_jobs = -1, random_state=1)\n",
    "etc.fit(train, target)\n",
    "\n",
    "features = etc.feature_importances_\n",
    "feat_imp = pd.Series(features, index = train.columns)\n",
    "l = list(feat_imp[feat_imp > 0.00005].index)\n",
    "train = train[l]\n",
    "test = test[l]\n",
    "\n",
    "skf = StratifiedKFold(target, n_folds=5, shuffle=True, random_state = 1)\n",
    "score_metric = 'roc_auc'\n",
    "\n",
    "etc_new = xgb.XGBClassifier(max_depth=5, n_estimators=350, objective = \"binary:logistic\", silent = True, learning_rate=0.03, \n",
    "                                    nthread=4, subsample=0.8, colsample_bytree=0.7, seed=4242)\n",
    "\n",
    "def score_model(model):\n",
    "    return cross_val_score(model, train, target, cv = skf, scoring = score_metric)\n",
    "\n",
    "print score_model(etc_new).mean()"
   ]
  },
  {
   "cell_type": "code",
   "execution_count": 162,
   "metadata": {
    "collapsed": false
   },
   "outputs": [],
   "source": [
    "etc_new.fit(train, target)\n",
    "pred = etc_new.predict_proba(test)[:, 1]\n",
    "test.insert(0,'TARGET',pred)\n",
    "test[['TARGET']].to_csv('santander_etc.csv')"
   ]
  },
  {
   "cell_type": "code",
   "execution_count": null,
   "metadata": {
    "collapsed": true
   },
   "outputs": [],
   "source": []
  }
 ],
 "metadata": {
  "kernelspec": {
   "display_name": "Python 2",
   "language": "python",
   "name": "python2"
  },
  "language_info": {
   "codemirror_mode": {
    "name": "ipython",
    "version": 2
   },
   "file_extension": ".py",
   "mimetype": "text/x-python",
   "name": "python",
   "nbconvert_exporter": "python",
   "pygments_lexer": "ipython2",
   "version": "2.7.11"
  }
 },
 "nbformat": 4,
 "nbformat_minor": 0
}
